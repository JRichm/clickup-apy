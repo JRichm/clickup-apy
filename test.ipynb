{
 "cells": [
  {
   "cell_type": "code",
   "execution_count": null,
   "id": "35cff779",
   "metadata": {},
   "outputs": [
    {
     "ename": "ImportError",
     "evalue": "cannot import name 'Session' from 'wrapper' (c:\\Users\\jblac\\Desktop\\Folder\\Projects\\Coding\\Projects\\clickupwrapper\\wrapper.py)",
     "output_type": "error",
     "traceback": [
      "\u001b[1;31m---------------------------------------------------------------------------\u001b[0m",
      "\u001b[1;31mImportError\u001b[0m                               Traceback (most recent call last)",
      "Cell \u001b[1;32mIn[3], line 6\u001b[0m\n\u001b[0;32m      2\u001b[0m \u001b[38;5;28;01mfrom\u001b[39;00m\u001b[38;5;250m \u001b[39m\u001b[38;5;21;01mdotenv\u001b[39;00m\u001b[38;5;250m \u001b[39m\u001b[38;5;28;01mimport\u001b[39;00m load_dotenv\n\u001b[0;32m      4\u001b[0m load_dotenv()\n\u001b[1;32m----> 6\u001b[0m \u001b[38;5;28;01mfrom\u001b[39;00m\u001b[38;5;250m \u001b[39m\u001b[38;5;21;01mwrapper\u001b[39;00m\u001b[38;5;250m \u001b[39m\u001b[38;5;28;01mimport\u001b[39;00m Session\n",
      "\u001b[1;31mImportError\u001b[0m: cannot import name 'Session' from 'wrapper' (c:\\Users\\jblac\\Desktop\\Folder\\Projects\\Coding\\Projects\\clickupwrapper\\wrapper.py)"
     ]
    }
   ],
   "source": [
    "import os\n",
    "from dotenv import load_dotenv\n",
    "\n",
    "load_dotenv()\n",
    "\n",
    "from wrapper import ClickUpAPI"
   ]
  },
  {
   "cell_type": "code",
   "execution_count": null,
   "id": "de4a899a",
   "metadata": {},
   "outputs": [],
   "source": [
    "clickup = Session()"
   ]
  },
  {
   "cell_type": "code",
   "execution_count": null,
   "id": "26563498",
   "metadata": {},
   "outputs": [],
   "source": [
    "my_task = clickup.get(f\"/task/86dxtym6h\")"
   ]
  },
  {
   "cell_type": "code",
   "execution_count": null,
   "id": "b464712e",
   "metadata": {},
   "outputs": [],
   "source": [
    "my_task"
   ]
  }
 ],
 "metadata": {
  "kernelspec": {
   "display_name": "venv",
   "language": "python",
   "name": "python3"
  },
  "language_info": {
   "codemirror_mode": {
    "name": "ipython",
    "version": 3
   },
   "file_extension": ".py",
   "mimetype": "text/x-python",
   "name": "python",
   "nbconvert_exporter": "python",
   "pygments_lexer": "ipython3",
   "version": "3.8.2"
  }
 },
 "nbformat": 4,
 "nbformat_minor": 5
}
